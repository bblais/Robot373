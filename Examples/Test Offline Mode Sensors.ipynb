{
 "cells": [
  {
   "cell_type": "code",
   "execution_count": 3,
   "id": "0dfe020a-0520-4235-98a5-8a8d0e8bb579",
   "metadata": {},
   "outputs": [
    {
     "name": "stdout",
     "output_type": "stream",
     "text": [
      "Waiting for Sensors to Warm Up...Offline mode for sensors...done.\n",
      "Warning -- Sensor us in offline mode.  Returning fake data.\n",
      "48\n",
      "47\n",
      "46\n",
      "44\n",
      "41\n",
      "39\n",
      "36\n",
      "33\n",
      "30\n",
      "27\n",
      "24\n",
      "21\n",
      "18\n",
      "15\n",
      "12\n",
      "9\n",
      "7\n",
      "5\n",
      "3\n",
      "2\n",
      "0\n",
      "0\n",
      "0\n",
      "0\n",
      "0\n",
      "1\n",
      "2\n",
      "4\n",
      "6\n",
      "8\n",
      "11\n",
      "14\n",
      "17\n",
      "20\n",
      "23\n",
      "26\n",
      "29\n",
      "32\n",
      "35\n",
      "38\n",
      "40\n",
      "43\n",
      "45\n",
      "46\n",
      "48\n",
      "49\n",
      "49\n",
      "49\n",
      "49\n",
      "49\n",
      "Shutdown.\n"
     ]
    }
   ],
   "source": [
    "from Robot373 import *\n",
    "\n",
    "touch,color,eyes=Sensors(\"touch\",\"color\",\"us\",None)\n",
    "Wait(3) # just to make sure we connect ok\n",
    "Ma=Motors(\"a\")\n",
    "Ma.power=50\n",
    "\n",
    "T=Timer()\n",
    "\n",
    "while T.value<10:\n",
    "    print(eyes.value)\n",
    "    Wait(.2)\n",
    "\n",
    "\n",
    "\n",
    "\n",
    "Shutdown()"
   ]
  },
  {
   "cell_type": "code",
   "execution_count": null,
   "id": "c150573a-4305-48e0-a249-040da7c0eb52",
   "metadata": {},
   "outputs": [],
   "source": [
    "from Robot373 import *\n",
    "\n",
    "touch,color,eyes=Sensors(\"touch\",\"color\",\"us\",None)\n",
    "Wait(3) # just to make sure we connect ok\n",
    "Ma=Motors(\"a\")\n",
    "Ma.power=50\n",
    "\n",
    "T=Timer()\n",
    "\n",
    "while T.value<10:\n",
    "    print(Ma.value)\n",
    "    Wait(.2)\n",
    "\n",
    "\n",
    "\n",
    "\n",
    "Shutdown()"
   ]
  }
 ],
 "metadata": {
  "kernelspec": {
   "display_name": "Python 3 (ipykernel)",
   "language": "python",
   "name": "python3"
  },
  "language_info": {
   "codemirror_mode": {
    "name": "ipython",
    "version": 3
   },
   "file_extension": ".py",
   "mimetype": "text/x-python",
   "name": "python",
   "nbconvert_exporter": "python",
   "pygments_lexer": "ipython3",
   "version": "3.11.4"
  }
 },
 "nbformat": 4,
 "nbformat_minor": 5
}
