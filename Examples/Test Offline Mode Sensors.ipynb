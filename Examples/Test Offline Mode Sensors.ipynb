{
 "cells": [
  {
   "cell_type": "code",
   "execution_count": 1,
   "id": "0dfe020a-0520-4235-98a5-8a8d0e8bb579",
   "metadata": {},
   "outputs": [
    {
     "name": "stdout",
     "output_type": "stream",
     "text": [
      "no module brickpi3...running in offline mode\n",
      "Version:  0.0.27\n",
      "Waiting for Sensors to Warm Up...Offline mode for sensors...done.\n",
      "Warning -- Sensor us in offline mode.  Returning fake data.\n",
      "48\n",
      "47\n",
      "46\n",
      "44\n",
      "42\n",
      "39\n",
      "36\n",
      "33\n",
      "30\n",
      "27\n",
      "24\n",
      "21\n",
      "18\n",
      "15\n",
      "12\n",
      "9\n",
      "7\n",
      "5\n",
      "3\n",
      "2\n",
      "1\n",
      "0\n",
      "0\n",
      "0\n",
      "0\n",
      "1\n",
      "2\n",
      "4\n",
      "6\n",
      "8\n",
      "11\n",
      "13\n",
      "16\n",
      "19\n",
      "23\n",
      "26\n",
      "29\n",
      "32\n",
      "35\n",
      "38\n",
      "40\n",
      "43\n",
      "45\n",
      "46\n",
      "48\n",
      "49\n",
      "49\n",
      "49\n",
      "49\n",
      "49\n",
      "Shutdown.\n"
     ]
    }
   ],
   "source": [
    "from Robot373 import *\n",
    "\n",
    "touch,color,eyes=Sensors(\"touch\",\"color\",\"us\",None)\n",
    "Wait(3) # just to make sure we connect ok\n",
    "Ma=Motors(\"a\")\n",
    "Ma.power=50\n",
    "\n",
    "T=Timer()\n",
    "\n",
    "while T.value<10:\n",
    "    print(eyes.value)\n",
    "    Wait(.2)\n",
    "\n",
    "\n",
    "\n",
    "\n",
    "Shutdown()"
   ]
  },
  {
   "cell_type": "code",
   "execution_count": 2,
   "id": "c150573a-4305-48e0-a249-040da7c0eb52",
   "metadata": {},
   "outputs": [
    {
     "name": "stdout",
     "output_type": "stream",
     "text": [
      "Waiting for Sensors to Warm Up...Offline mode for sensors...done.\n"
     ]
    },
    {
     "ename": "AttributeError",
     "evalue": "'Motor' object has no attribute 'value'",
     "output_type": "error",
     "traceback": [
      "\u001b[0;31m---------------------------------------------------------------------------\u001b[0m",
      "\u001b[0;31mAttributeError\u001b[0m                            Traceback (most recent call last)",
      "Cell \u001b[0;32mIn[2], line 11\u001b[0m\n\u001b[1;32m      8\u001b[0m T\u001b[38;5;241m=\u001b[39mTimer()\n\u001b[1;32m     10\u001b[0m \u001b[38;5;28;01mwhile\u001b[39;00m T\u001b[38;5;241m.\u001b[39mvalue\u001b[38;5;241m<\u001b[39m\u001b[38;5;241m10\u001b[39m:\n\u001b[0;32m---> 11\u001b[0m     \u001b[38;5;28mprint\u001b[39m(Ma\u001b[38;5;241m.\u001b[39mvalue)\n\u001b[1;32m     12\u001b[0m     Wait(\u001b[38;5;241m.2\u001b[39m)\n\u001b[1;32m     17\u001b[0m Shutdown()\n",
      "\u001b[0;31mAttributeError\u001b[0m: 'Motor' object has no attribute 'value'"
     ]
    }
   ],
   "source": [
    "from Robot373 import *\n",
    "\n",
    "touch,color,eyes=Sensors(\"touch\",\"color\",\"us\",None)\n",
    "Wait(3) # just to make sure we connect ok\n",
    "Ma=Motors(\"a\")\n",
    "Ma.power=50\n",
    "\n",
    "T=Timer()\n",
    "\n",
    "while T.value<10:\n",
    "    print(Ma.position)\n",
    "    Wait(.2)\n",
    "\n",
    "\n",
    "\n",
    "\n",
    "Shutdown()"
   ]
  }
 ],
 "metadata": {
  "kernelspec": {
   "display_name": "Python 3 (ipykernel)",
   "language": "python",
   "name": "python3"
  },
  "language_info": {
   "codemirror_mode": {
    "name": "ipython",
    "version": 3
   },
   "file_extension": ".py",
   "mimetype": "text/x-python",
   "name": "python",
   "nbconvert_exporter": "python",
   "pygments_lexer": "ipython3",
   "version": "3.11.4"
  }
 },
 "nbformat": 4,
 "nbformat_minor": 5
}
