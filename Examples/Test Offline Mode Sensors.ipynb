{
 "cells": [
  {
   "cell_type": "code",
   "execution_count": 4,
   "id": "0dfe020a-0520-4235-98a5-8a8d0e8bb579",
   "metadata": {},
   "outputs": [
    {
     "name": "stdout",
     "output_type": "stream",
     "text": [
      "Waiting for Sensors to Warm Up...Offline mode for sensors...done.\n",
      "Warning -- Sensor touch in offline mode.  Returning fake data.\n",
      "True\n",
      "True\n",
      "True\n",
      "True\n",
      "True\n",
      "True\n",
      "False\n",
      "False\n",
      "False\n"
     ]
    },
    {
     "ename": "KeyboardInterrupt",
     "evalue": "",
     "output_type": "error",
     "traceback": [
      "\u001b[0;31m---------------------------------------------------------------------------\u001b[0m",
      "\u001b[0;31mKeyboardInterrupt\u001b[0m                         Traceback (most recent call last)",
      "Cell \u001b[0;32mIn[4], line 12\u001b[0m\n\u001b[1;32m     10\u001b[0m \u001b[38;5;28;01mwhile\u001b[39;00m T\u001b[38;5;241m.\u001b[39mvalue\u001b[38;5;241m<\u001b[39m\u001b[38;5;241m10\u001b[39m:\n\u001b[1;32m     11\u001b[0m     \u001b[38;5;28mprint\u001b[39m(touch\u001b[38;5;241m.\u001b[39mvalue)\n\u001b[0;32m---> 12\u001b[0m     Wait(\u001b[38;5;241m.2\u001b[39m)\n\u001b[1;32m     17\u001b[0m Shutdown()\n",
      "File \u001b[0;32m~/anaconda3/lib/python3.11/site-packages/Robot373/robot.py:5\u001b[0m, in \u001b[0;36mWait\u001b[0;34m(seconds)\u001b[0m\n\u001b[1;32m      4\u001b[0m \u001b[38;5;28;01mdef\u001b[39;00m \u001b[38;5;21mWait\u001b[39m(seconds):\n\u001b[0;32m----> 5\u001b[0m     time\u001b[38;5;241m.\u001b[39msleep(seconds)\n",
      "\u001b[0;31mKeyboardInterrupt\u001b[0m: "
     ]
    }
   ],
   "source": [
    "from Robot373 import *\n",
    "\n",
    "touch,color,eyes=Sensors(\"touch\",\"color\",\"us\",None)\n",
    "Wait(3) # just to make sure we connect ok\n",
    "Ma=Motors(\"a\")\n",
    "Ma.power=50\n",
    "\n",
    "T=Timer()\n",
    "\n",
    "while T.value<10:\n",
    "    print(color.value)\n",
    "    Wait(.2)\n",
    "\n",
    "\n",
    "\n",
    "\n",
    "Shutdown()"
   ]
  },
  {
   "cell_type": "code",
   "execution_count": null,
   "id": "c150573a-4305-48e0-a249-040da7c0eb52",
   "metadata": {},
   "outputs": [],
   "source": []
  }
 ],
 "metadata": {
  "kernelspec": {
   "display_name": "Python 3 (ipykernel)",
   "language": "python",
   "name": "python3"
  },
  "language_info": {
   "codemirror_mode": {
    "name": "ipython",
    "version": 3
   },
   "file_extension": ".py",
   "mimetype": "text/x-python",
   "name": "python",
   "nbconvert_exporter": "python",
   "pygments_lexer": "ipython3",
   "version": "3.11.4"
  }
 },
 "nbformat": 4,
 "nbformat_minor": 5
}
