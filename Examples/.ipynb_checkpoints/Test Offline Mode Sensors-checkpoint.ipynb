{
 "cells": [
  {
   "cell_type": "code",
   "execution_count": 1,
   "id": "0dfe020a-0520-4235-98a5-8a8d0e8bb579",
   "metadata": {},
   "outputs": [
    {
     "name": "stdout",
     "output_type": "stream",
     "text": [
      "no module brickpi3\n",
      "Version:  0.0.17\n",
      "None\n",
      "None\n",
      "None\n",
      "None\n",
      "None\n",
      "None\n",
      "None\n",
      "None\n",
      "None\n",
      "None\n",
      "None\n",
      "None\n",
      "None\n",
      "None\n",
      "None\n",
      "None\n",
      "None\n",
      "None\n",
      "None\n",
      "None\n",
      "None\n"
     ]
    },
    {
     "name": "stderr",
     "output_type": "stream",
     "text": [
      "\n",
      "KeyboardInterrupt\n",
      "\n"
     ]
    }
   ],
   "source": [
    "from Robot373 import *\n",
    "\n",
    "touch=Sensors(\"touch\",None,None,None)\n",
    "Wait(3) # just to make sure we connect ok\n",
    "Ma=Motors(\"a\")\n",
    "Ma.power=50\n",
    "\n",
    "T=Timer()\n",
    "\n",
    "while T.value<5:\n",
    "    print(touch.value)\n",
    "    Wait(.1)\n",
    "\n",
    "\n",
    "\n",
    "\n",
    "Shutdown()"
   ]
  },
  {
   "cell_type": "code",
   "execution_count": null,
   "id": "c150573a-4305-48e0-a249-040da7c0eb52",
   "metadata": {},
   "outputs": [],
   "source": []
  }
 ],
 "metadata": {
  "kernelspec": {
   "display_name": "Python 3 (ipykernel)",
   "language": "python",
   "name": "python3"
  },
  "language_info": {
   "codemirror_mode": {
    "name": "ipython",
    "version": 3
   },
   "file_extension": ".py",
   "mimetype": "text/x-python",
   "name": "python",
   "nbconvert_exporter": "python",
   "pygments_lexer": "ipython3",
   "version": "3.11.4"
  }
 },
 "nbformat": 4,
 "nbformat_minor": 5
}
